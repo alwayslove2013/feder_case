{
 "cells": [
  {
   "cell_type": "markdown",
   "id": "509d6e3b",
   "metadata": {},
   "source": [
    "# Demo - from embedding to visulization\n",
    "\n",
    "Only needs to prepare some image data to observe the ANNS process of this dataset.\n",
    "\n",
    "- Embedding\n",
    "    - towhee\n",
    "- Index Building\n",
    "    - faiss - ivf_flat\n",
    "    - hnswlib - hnsw\n",
    "- Visualizaton for ANNS\n",
    "    - [federpy](https://github.com/zilliztech/feder)\n",
    "    - [more cases](https://colab.research.google.com/drive/12L_oJPR-yFDlORpPondsqGNTPVsSsUwi#scrollTo=N3qqBAYxYcbt)\n",
    "    \n",
    "![image](fig/pipeline.png)"
   ]
  },
  {
   "cell_type": "markdown",
   "id": "dd56e757",
   "metadata": {},
   "source": [
    "## Embedding - Towhee\n",
    "- dataset: https://github.com/towhee-io/data/raw/main/image/reverse_image_search.zip\n",
    "- operator: resnet50"
   ]
  },
  {
   "cell_type": "code",
   "execution_count": null,
   "id": "2634e6a5",
   "metadata": {},
   "outputs": [],
   "source": [
    "from towhee import pipeline\n",
    "import numpy as np\n",
    "from pathlib import Path\n",
    "\n",
    "embedding_pipeline = pipeline('towhee/image-embedding-resnet50')\n",
    "dataset_path = \"./imageNet_subset/train\"\n",
    "\n",
    "images = []\n",
    "vectors = []\n",
    "\n",
    "\n",
    "for img_class_path in Path(dataset_path).glob('*'):\n",
    "    for img_path in Path(img_class_path).glob('*'):\n",
    "        vec = embedding_pipeline(str(img_path))\n",
    "        norm_vec = vec / np.linalg.norm(vec)\n",
    "        vectors.append(norm_vec.tolist())\n",
    "        images.append(str(img_path))\n",
    "\n",
    "vectors_float32 = np.array(vectors, dtype=\"float32\")"
   ]
  },
  {
   "cell_type": "code",
   "execution_count": 6,
   "id": "34fca0b6",
   "metadata": {},
   "outputs": [],
   "source": [
    "# save the vectors and paths\n",
    "import pandas as pd\n",
    "\n",
    "d = pd.DataFrame(vectors)\n",
    "d['image_path'] = d.apply(lambda x: images[int(x.name)] if int(x.name) < len(images) else False)\n",
    "d.to_csv('imageNet_subset_names_vectors.csv')"
   ]
  },
  {
   "cell_type": "markdown",
   "id": "d2f91abc",
   "metadata": {},
   "source": [
    "## Index Building - Faiss"
   ]
  },
  {
   "cell_type": "code",
   "execution_count": 35,
   "id": "086955ba",
   "metadata": {},
   "outputs": [
    {
     "name": "stderr",
     "output_type": "stream",
     "text": [
      "WARNING clustering 1000 points to 128 centroids: please provide at least 4992 training points\n"
     ]
    }
   ],
   "source": [
    "import faiss\n",
    "\n",
    "dim = vectors_float32.shape[1]\n",
    "nlist = 128\n",
    "faiss_index = faiss.index_factory(dim, 'IVF%s,Flat' % nlist)\n",
    "faiss_index.train(vectors_float32)\n",
    "faiss_index.add(vectors_float32)\n",
    "\n",
    "# save the index\n",
    "faiss_index_file_name = 'faiss_image_net.index'\n",
    "faiss.write_index(faiss_index, faiss_index_file_name)"
   ]
  },
  {
   "cell_type": "markdown",
   "id": "66243a6b",
   "metadata": {},
   "source": [
    "## Index Building - Hnswlib"
   ]
  },
  {
   "cell_type": "code",
   "execution_count": 34,
   "id": "6309246f",
   "metadata": {},
   "outputs": [],
   "source": [
    "import hnswlib\n",
    "\n",
    "dim = vectors_float32.shape[1]\n",
    "max_elements = vectors_float32.shape[0]\n",
    "hnsw_index = hnswlib.Index(space='l2', dim=dim)\n",
    "hnsw_index.init_index(max_elements=max_elements, ef_construction=30, M=6)\n",
    "hnsw_index.add_items(vectors_float32)\n",
    "\n",
    "# save the index\n",
    "hnsw_index_file_name = 'hnswlib_image_net.index'\n",
    "hnsw_index.save_index(hnsw_index_file_name)"
   ]
  },
  {
   "cell_type": "markdown",
   "id": "a0f09120",
   "metadata": {},
   "source": [
    "## Vis for ivf_flat - FederPy\n",
    "\n",
    "The jupyter-notebook in github can't display html, you can open https://alwayslove2013.github.io/feder_case/feder_ivf_flat_image_net.html"
   ]
  },
  {
   "cell_type": "code",
   "execution_count": 1,
   "id": "5c948571",
   "metadata": {},
   "outputs": [
    {
     "ename": "NameError",
     "evalue": "name 'images' is not defined",
     "output_type": "error",
     "traceback": [
      "\u001b[0;31m---------------------------------------------------------------------------\u001b[0m",
      "\u001b[0;31mNameError\u001b[0m                                 Traceback (most recent call last)",
      "Input \u001b[0;32mIn [1]\u001b[0m, in \u001b[0;36m<cell line: 4>\u001b[0;34m()\u001b[0m\n\u001b[1;32m      1\u001b[0m \u001b[38;5;28;01mfrom\u001b[39;00m \u001b[38;5;21;01mfederpy\u001b[39;00m\u001b[38;5;21;01m.\u001b[39;00m\u001b[38;5;21;01mfederpy\u001b[39;00m \u001b[38;5;28;01mimport\u001b[39;00m FederPy\n\u001b[1;32m      3\u001b[0m viewParams \u001b[38;5;241m=\u001b[39m {\n\u001b[1;32m      4\u001b[0m     \u001b[38;5;124m\"\u001b[39m\u001b[38;5;124mwidth\u001b[39m\u001b[38;5;124m\"\u001b[39m: \u001b[38;5;241m950\u001b[39m,\n\u001b[1;32m      5\u001b[0m     \u001b[38;5;124m\"\u001b[39m\u001b[38;5;124mheight\u001b[39m\u001b[38;5;124m\"\u001b[39m: \u001b[38;5;241m600\u001b[39m,\n\u001b[1;32m      6\u001b[0m     \u001b[38;5;124m\"\u001b[39m\u001b[38;5;124mmediaType\u001b[39m\u001b[38;5;124m\"\u001b[39m: \u001b[38;5;124m\"\u001b[39m\u001b[38;5;124mimg\u001b[39m\u001b[38;5;124m\"\u001b[39m,\n\u001b[0;32m----> 7\u001b[0m     \u001b[38;5;124m\"\u001b[39m\u001b[38;5;124mmediaUrls\u001b[39m\u001b[38;5;124m\"\u001b[39m: \u001b[43mimages\u001b[49m,\n\u001b[1;32m      8\u001b[0m     \u001b[38;5;124m\"\u001b[39m\u001b[38;5;124mfineSearchWithProjection\u001b[39m\u001b[38;5;124m\"\u001b[39m: \u001b[38;5;241m1\u001b[39m,\n\u001b[1;32m      9\u001b[0m     \u001b[38;5;124m\"\u001b[39m\u001b[38;5;124mprojectMethod\u001b[39m\u001b[38;5;124m\"\u001b[39m: \u001b[38;5;124m\"\u001b[39m\u001b[38;5;124mumap\u001b[39m\u001b[38;5;124m\"\u001b[39m\n\u001b[1;32m     10\u001b[0m }\n\u001b[1;32m     11\u001b[0m federPy \u001b[38;5;241m=\u001b[39m FederPy(faiss_index_file_name, \u001b[38;5;124m'\u001b[39m\u001b[38;5;124mfaiss\u001b[39m\u001b[38;5;124m'\u001b[39m, \u001b[38;5;241m*\u001b[39m\u001b[38;5;241m*\u001b[39mviewParams)\n\u001b[1;32m     12\u001b[0m \u001b[38;5;66;03m# federPy.overview()\u001b[39;00m\n",
      "\u001b[0;31mNameError\u001b[0m: name 'images' is not defined"
     ]
    }
   ],
   "source": [
    "from federpy.federpy import FederPy\n",
    "\n",
    "viewParams = {\n",
    "    \"width\": 950,\n",
    "    \"height\": 600,\n",
    "    \"mediaType\": \"img\",\n",
    "    \"mediaUrls\": images,\n",
    "    \"fineSearchWithProjection\": 1,\n",
    "    \"projectMethod\": \"umap\"\n",
    "}\n",
    "federPy = FederPy(faiss_index_file_name, 'faiss', **viewParams)\n",
    "# federPy.overview()\n",
    "federPy.setSearchParams({\"k\": 5, \"nprobe\": 6})\n",
    "# federPy.searchRandTestVec()\n",
    "federPy.searchById(833)"
   ]
  },
  {
   "cell_type": "code",
   "execution_count": 39,
   "id": "144bb74e",
   "metadata": {},
   "outputs": [],
   "source": [
    "feder_ivf_flat_file_name = 'feder_ivf_flat_image_net.html'\n",
    "useIPythonDisplay = False\n",
    "with open(feder_ivf_flat_file_name, 'w') as f:\n",
    "    f.write(federPy.searchById(833, useIPythonDisplay))"
   ]
  },
  {
   "cell_type": "markdown",
   "id": "ab677e34",
   "metadata": {},
   "source": [
    "## Vis for hnsw - FederPy\n",
    "\n",
    "The jupyter-notebook in github can't display html, you can open https://alwayslove2013.github.io/feder_case/feder_hnsw_image_net.html"
   ]
  },
  {
   "cell_type": "code",
   "execution_count": 41,
   "id": "c7572292",
   "metadata": {},
   "outputs": [
    {
     "data": {
      "text/html": [
       "\n",
       "<!DOCTYPE html>\n",
       "<html>\n",
       "\n",
       "<head>\n",
       "  <meta charset=\"utf-8\" />\n",
       "  <meta name=\"viewport\" content=\"width=device-width,initial-scale=1\" />\n",
       "  <meta name=\"theme-color\" content=\"#ffffff\" />\n",
       "  <title>Feder</title>\n",
       "</head>\n",
       "\n",
       "<body style=\"background: #000\">\n",
       "  <div id=\"feder-container-3793538\" />\n",
       "</body>\n",
       "\n",
       "<script type=\"module\">\n",
       "\n",
       "\n",
       "import { Feder } from \"https://unpkg.com/@zilliz/feder\"\n",
       "// console.log(Feder)\n",
       "\n",
       "const mediaUrls = ['imageNet_subset/train/mixing_bowl/n03775546_1526.JPEG','imageNet_subset/train/mixing_bowl/n03775546_2583.JPEG','imageNet_subset/train/mixing_bowl/n03775546_17054.JPEG','imageNet_subset/train/mixing_bowl/n03775546_8079.JPEG','imageNet_subset/train/mixing_bowl/n03775546_6620.JPEG','imageNet_subset/train/mixing_bowl/n03775546_8809.JPEG','imageNet_subset/train/mixing_bowl/n03775546_14407.JPEG','imageNet_subset/train/mixing_bowl/n03775546_18805.JPEG','imageNet_subset/train/mixing_bowl/n03775546_3108.JPEG','imageNet_subset/train/mixing_bowl/n03775546_8533.JPEG','imageNet_subset/train/magpie/n01582220_6305.JPEG','imageNet_subset/train/magpie/n01582220_6915.JPEG','imageNet_subset/train/magpie/n01582220_8930.JPEG','imageNet_subset/train/magpie/n01582220_5870.JPEG','imageNet_subset/train/magpie/n01582220_36701.JPEG','imageNet_subset/train/magpie/n01582220_4738.JPEG','imageNet_subset/train/magpie/n01582220_9174.JPEG','imageNet_subset/train/magpie/n01582220_9114.JPEG','imageNet_subset/train/magpie/n01582220_7366.JPEG','imageNet_subset/train/magpie/n01582220_10712.JPEG','imageNet_subset/train/wombat/n01883070_1689.JPEG','imageNet_subset/train/wombat/n01883070_809.JPEG','imageNet_subset/train/wombat/n01883070_26704.JPEG','imageNet_subset/train/wombat/n01883070_4202.JPEG','imageNet_subset/train/wombat/n01883070_7273.JPEG','imageNet_subset/train/wombat/n01883070_1013.JPEG','imageNet_subset/train/wombat/n01883070_2167.JPEG','imageNet_subset/train/wombat/n01883070_3170.JPEG','imageNet_subset/train/wombat/n01883070_7142.JPEG','imageNet_subset/train/wombat/n01883070_7363.JPEG','imageNet_subset/train/remote_control/n04074963_2601.JPEG','imageNet_subset/train/remote_control/n04074963_2965.JPEG','imageNet_subset/train/remote_control/n04074963_2964.JPEG','imageNet_subset/train/remote_control/n04074963_33135.JPEG','imageNet_subset/train/remote_control/n04074963_15421.JPEG','imageNet_subset/train/remote_control/n04074963_6596.JPEG','imageNet_subset/train/remote_control/n04074963_14454.JPEG','imageNet_subset/train/remote_control/n04074963_15428.JPEG','imageNet_subset/train/remote_control/n04074963_2858.JPEG','imageNet_subset/train/remote_control/n04074963_150.JPEG','imageNet_subset/train/police_van/n03977966_40341.JPEG','imageNet_subset/train/police_van/n03977966_11928.JPEG','imageNet_subset/train/police_van/n03977966_14167.JPEG','imageNet_subset/train/police_van/n03977966_40810.JPEG','imageNet_subset/train/police_van/n03977966_48980.JPEG','imageNet_subset/train/police_van/n03977966_72690.JPEG','imageNet_subset/train/police_van/n03977966_67883.JPEG','imageNet_subset/train/police_van/n03977966_14821.JPEG','imageNet_subset/train/police_van/n03977966_44507.JPEG','imageNet_subset/train/police_van/n03977966_8691.JPEG','imageNet_subset/train/ski_mask/n04229816_2711.JPEG','imageNet_subset/train/ski_mask/n04229816_6821.JPEG','imageNet_subset/train/ski_mask/n04229816_2536.JPEG','imageNet_subset/train/ski_mask/n04229816_1455.JPEG','imageNet_subset/train/ski_mask/n04229816_1710.JPEG','imageNet_subset/train/ski_mask/n04229816_2060.JPEG','imageNet_subset/train/ski_mask/n04229816_10284.JPEG','imageNet_subset/train/ski_mask/n04229816_651.JPEG','imageNet_subset/train/ski_mask/n04229816_15865.JPEG','imageNet_subset/train/ski_mask/n04229816_10630.JPEG','imageNet_subset/train/killer_whale/n02071294_282.JPEG','imageNet_subset/train/killer_whale/n02071294_3626.JPEG','imageNet_subset/train/killer_whale/n02071294_4346.JPEG','imageNet_subset/train/killer_whale/n02071294_7339.JPEG','imageNet_subset/train/killer_whale/n02071294_2300.JPEG','imageNet_subset/train/killer_whale/n02071294_30243.JPEG','imageNet_subset/train/killer_whale/n02071294_22428.JPEG','imageNet_subset/train/killer_whale/n02071294_263.JPEG','imageNet_subset/train/killer_whale/n02071294_3473.JPEG','imageNet_subset/train/killer_whale/n02071294_24318.JPEG','imageNet_subset/train/half_track/n03478589_1496.JPEG','imageNet_subset/train/half_track/n03478589_5494.JPEG','imageNet_subset/train/half_track/n03478589_18464.JPEG','imageNet_subset/train/half_track/n03478589_5996.JPEG','imageNet_subset/train/half_track/n03478589_18009.JPEG','imageNet_subset/train/half_track/n03478589_4082.JPEG','imageNet_subset/train/half_track/n03478589_17043.JPEG','imageNet_subset/train/half_track/n03478589_10611.JPEG','imageNet_subset/train/half_track/n03478589_1587.JPEG','imageNet_subset/train/half_track/n03478589_2915.JPEG','imageNet_subset/train/typewriter_keyboard/n04505470_510.JPEG','imageNet_subset/train/typewriter_keyboard/n04505470_7201.JPEG','imageNet_subset/train/typewriter_keyboard/n04505470_1777.JPEG','imageNet_subset/train/typewriter_keyboard/n04505470_3207.JPEG','imageNet_subset/train/typewriter_keyboard/n04505470_2093.JPEG','imageNet_subset/train/typewriter_keyboard/n04505470_5019.JPEG','imageNet_subset/train/typewriter_keyboard/n04505470_4976.JPEG','imageNet_subset/train/typewriter_keyboard/n04505470_387.JPEG','imageNet_subset/train/typewriter_keyboard/n04505470_3558.JPEG','imageNet_subset/train/typewriter_keyboard/n04505470_4507.JPEG','imageNet_subset/train/hermit_crab/n01986214_4072.JPEG','imageNet_subset/train/hermit_crab/n01986214_25044.JPEG','imageNet_subset/train/hermit_crab/n01986214_12726.JPEG','imageNet_subset/train/hermit_crab/n01986214_4117.JPEG','imageNet_subset/train/hermit_crab/n01986214_16545.JPEG','imageNet_subset/train/hermit_crab/n01986214_22176.JPEG','imageNet_subset/train/hermit_crab/n01986214_3377.JPEG','imageNet_subset/train/hermit_crab/n01986214_10010.JPEG','imageNet_subset/train/hermit_crab/n01986214_23891.JPEG','imageNet_subset/train/hermit_crab/n01986214_25178.JPEG','imageNet_subset/train/steel_arch_bridge/n04311004_1868.JPEG','imageNet_subset/train/steel_arch_bridge/n04311004_39.JPEG','imageNet_subset/train/steel_arch_bridge/n04311004_1649.JPEG','imageNet_subset/train/steel_arch_bridge/n04311004_852.JPEG','imageNet_subset/train/steel_arch_bridge/n04311004_5455.JPEG','imageNet_subset/train/steel_arch_bridge/n04311004_2061.JPEG','imageNet_subset/train/steel_arch_bridge/n04311004_3754.JPEG','imageNet_subset/train/steel_arch_bridge/n04311004_2606.JPEG','imageNet_subset/train/steel_arch_bridge/n04311004_1657.JPEG','imageNet_subset/train/steel_arch_bridge/n04311004_5405.JPEG','imageNet_subset/train/dugong/n02074367_7060.JPEG','imageNet_subset/train/dugong/n02074367_11823.JPEG','imageNet_subset/train/dugong/n02074367_21374.JPEG','imageNet_subset/train/dugong/n02074367_6343.JPEG','imageNet_subset/train/dugong/n02074367_15261.JPEG','imageNet_subset/train/dugong/n02074367_16898.JPEG','imageNet_subset/train/dugong/n02074367_2045.JPEG','imageNet_subset/train/dugong/n02074367_11389.JPEG','imageNet_subset/train/dugong/n02074367_10112.JPEG','imageNet_subset/train/dugong/n02074367_3178.JPEG','imageNet_subset/train/horizontal_bar/n03535780_43973.JPEG','imageNet_subset/train/horizontal_bar/n03535780_16077.JPEG','imageNet_subset/train/horizontal_bar/n03535780_40969.JPEG','imageNet_subset/train/horizontal_bar/n03535780_22725.JPEG','imageNet_subset/train/horizontal_bar/n03535780_36211.JPEG','imageNet_subset/train/horizontal_bar/n03535780_41906.JPEG','imageNet_subset/train/horizontal_bar/n03535780_18270.JPEG','imageNet_subset/train/horizontal_bar/n03535780_15546.JPEG','imageNet_subset/train/horizontal_bar/n03535780_42746.JPEG','imageNet_subset/train/horizontal_bar/n03535780_3870.JPEG','imageNet_subset/train/grocery_store/n03461385_3638.JPEG','imageNet_subset/train/grocery_store/n03461385_11704.JPEG','imageNet_subset/train/grocery_store/n03461385_71484.JPEG','imageNet_subset/train/grocery_store/n03461385_107307.JPEG','imageNet_subset/train/grocery_store/n03461385_76359.JPEG','imageNet_subset/train/grocery_store/n03461385_9780.JPEG','imageNet_subset/train/grocery_store/n03461385_49979.JPEG','imageNet_subset/train/grocery_store/n03461385_31572.JPEG','imageNet_subset/train/grocery_store/n03461385_16123.JPEG','imageNet_subset/train/grocery_store/n03461385_72736.JPEG','imageNet_subset/train/lynx/n02127052_2874.JPEG','imageNet_subset/train/lynx/n02127052_7657.JPEG','imageNet_subset/train/lynx/n02127052_206.JPEG','imageNet_subset/train/lynx/n02127052_3830.JPEG','imageNet_subset/train/lynx/n02127052_1944.JPEG','imageNet_subset/train/lynx/n02127052_19993.JPEG','imageNet_subset/train/lynx/n02127052_433.JPEG','imageNet_subset/train/lynx/n02127052_2768.JPEG','imageNet_subset/train/lynx/n02127052_9325.JPEG','imageNet_subset/train/lynx/n02127052_7004.JPEG','imageNet_subset/train/ruffed_grouse/n01797886_6856.JPEG','imageNet_subset/train/ruffed_grouse/n01797886_20346.JPEG','imageNet_subset/train/ruffed_grouse/n01797886_5207.JPEG','imageNet_subset/train/ruffed_grouse/n01797886_10810.JPEG','imageNet_subset/train/ruffed_grouse/n01797886_17531.JPEG','imageNet_subset/train/ruffed_grouse/n01797886_17360.JPEG','imageNet_subset/train/ruffed_grouse/n01797886_6758.JPEG','imageNet_subset/train/ruffed_grouse/n01797886_55.JPEG','imageNet_subset/train/ruffed_grouse/n01797886_13048.JPEG','imageNet_subset/train/ruffed_grouse/n01797886_13537.JPEG','imageNet_subset/train/apiary/n02727426_19218.JPEG','imageNet_subset/train/apiary/n02727426_39745.JPEG','imageNet_subset/train/apiary/n02727426_7944.JPEG','imageNet_subset/train/apiary/n02727426_25274.JPEG','imageNet_subset/train/apiary/n02727426_40972.JPEG','imageNet_subset/train/apiary/n02727426_39714.JPEG','imageNet_subset/train/apiary/n02727426_23991.JPEG','imageNet_subset/train/apiary/n02727426_14658.JPEG','imageNet_subset/train/apiary/n02727426_948.JPEG','imageNet_subset/train/apiary/n02727426_25725.JPEG','imageNet_subset/train/cornet/n03110669_96993.JPEG','imageNet_subset/train/cornet/n03110669_90221.JPEG','imageNet_subset/train/cornet/n03110669_26855.JPEG','imageNet_subset/train/cornet/n03110669_96496.JPEG','imageNet_subset/train/cornet/n03110669_109985.JPEG','imageNet_subset/train/cornet/n03110669_113223.JPEG','imageNet_subset/train/cornet/n03110669_95746.JPEG','imageNet_subset/train/cornet/n03110669_90417.JPEG','imageNet_subset/train/cornet/n03110669_116887.JPEG','imageNet_subset/train/cornet/n03110669_14570.JPEG','imageNet_subset/train/rocking_chair/n04099969_56024.JPEG','imageNet_subset/train/rocking_chair/n04099969_13491.JPEG','imageNet_subset/train/rocking_chair/n04099969_499.JPEG','imageNet_subset/train/rocking_chair/n04099969_8922.JPEG','imageNet_subset/train/rocking_chair/n04099969_3551.JPEG','imageNet_subset/train/rocking_chair/n04099969_6704.JPEG','imageNet_subset/train/rocking_chair/n04099969_7573.JPEG','imageNet_subset/train/rocking_chair/n04099969_875.JPEG','imageNet_subset/train/rocking_chair/n04099969_8873.JPEG','imageNet_subset/train/rocking_chair/n04099969_594.JPEG','imageNet_subset/train/bottlecap/n02877765_15035.JPEG','imageNet_subset/train/bottlecap/n02877765_5062.JPEG','imageNet_subset/train/bottlecap/n02877765_2683.JPEG','imageNet_subset/train/bottlecap/n02877765_1596.JPEG','imageNet_subset/train/bottlecap/n02877765_8325.JPEG','imageNet_subset/train/bottlecap/n02877765_15252.JPEG','imageNet_subset/train/bottlecap/n02877765_1667.JPEG','imageNet_subset/train/bottlecap/n02877765_3458.JPEG','imageNet_subset/train/bottlecap/n02877765_3444.JPEG','imageNet_subset/train/bottlecap/n02877765_747.JPEG','imageNet_subset/train/pinwheel/n03944341_12662.JPEG','imageNet_subset/train/pinwheel/n03944341_8459.JPEG','imageNet_subset/train/pinwheel/n03944341_10404.JPEG','imageNet_subset/train/pinwheel/n03944341_20143.JPEG','imageNet_subset/train/pinwheel/n03944341_8927.JPEG','imageNet_subset/train/pinwheel/n03944341_8723.JPEG','imageNet_subset/train/pinwheel/n03944341_26420.JPEG','imageNet_subset/train/pinwheel/n03944341_11616.JPEG','imageNet_subset/train/pinwheel/n03944341_23306.JPEG','imageNet_subset/train/pinwheel/n03944341_3596.JPEG','imageNet_subset/train/chain_mail/n03000247_2356.JPEG','imageNet_subset/train/chain_mail/n03000247_15536.JPEG','imageNet_subset/train/chain_mail/n03000247_24733.JPEG','imageNet_subset/train/chain_mail/n03000247_52398.JPEG','imageNet_subset/train/chain_mail/n03000247_39409.JPEG','imageNet_subset/train/chain_mail/n03000247_2521.JPEG','imageNet_subset/train/chain_mail/n03000247_13057.JPEG','imageNet_subset/train/chain_mail/n03000247_25999.JPEG','imageNet_subset/train/chain_mail/n03000247_39575.JPEG','imageNet_subset/train/chain_mail/n03000247_25442.JPEG','imageNet_subset/train/trilobite/n01768244_2809.JPEG','imageNet_subset/train/trilobite/n01768244_1487.JPEG','imageNet_subset/train/trilobite/n01768244_4216.JPEG','imageNet_subset/train/trilobite/n01768244_1428.JPEG','imageNet_subset/train/trilobite/n01768244_9274.JPEG','imageNet_subset/train/trilobite/n01768244_5666.JPEG','imageNet_subset/train/trilobite/n01768244_8042.JPEG','imageNet_subset/train/trilobite/n01768244_9949.JPEG','imageNet_subset/train/trilobite/n01768244_301.JPEG','imageNet_subset/train/trilobite/n01768244_950.JPEG','imageNet_subset/train/basset/n02088238_7487.JPEG','imageNet_subset/train/basset/n02088238_9162.JPEG','imageNet_subset/train/basset/n02088238_412.JPEG','imageNet_subset/train/basset/n02088238_7069.JPEG','imageNet_subset/train/basset/n02088238_9631.JPEG','imageNet_subset/train/basset/n02088238_8466.JPEG','imageNet_subset/train/basset/n02088238_7207.JPEG','imageNet_subset/train/basset/n02088238_9900.JPEG','imageNet_subset/train/basset/n02088238_1203.JPEG','imageNet_subset/train/basset/n02088238_10422.JPEG','imageNet_subset/train/black_widow/n01774384_20649.JPEG','imageNet_subset/train/black_widow/n01774384_15360.JPEG','imageNet_subset/train/black_widow/n01774384_11467.JPEG','imageNet_subset/train/black_widow/n01774384_14555.JPEG','imageNet_subset/train/black_widow/n01774384_15871.JPEG','imageNet_subset/train/black_widow/n01774384_14123.JPEG','imageNet_subset/train/black_widow/n01774384_6247.JPEG','imageNet_subset/train/black_widow/n01774384_103.JPEG','imageNet_subset/train/black_widow/n01774384_816.JPEG','imageNet_subset/train/black_widow/n01774384_1624.JPEG','imageNet_subset/train/goldfish/n01443537_13189.JPEG','imageNet_subset/train/goldfish/n01443537_1903.JPEG','imageNet_subset/train/goldfish/n01443537_19638.JPEG','imageNet_subset/train/goldfish/n01443537_7751.JPEG','imageNet_subset/train/goldfish/n01443537_7376.JPEG','imageNet_subset/train/goldfish/n01443537_2637.JPEG','imageNet_subset/train/goldfish/n01443537_9816.JPEG','imageNet_subset/train/goldfish/n01443537_6743.JPEG','imageNet_subset/train/goldfish/n01443537_1415.JPEG','imageNet_subset/train/goldfish/n01443537_2819.JPEG','imageNet_subset/train/measuring_cup/n03733805_12951.JPEG','imageNet_subset/train/measuring_cup/n03733805_6166.JPEG','imageNet_subset/train/measuring_cup/n03733805_14529.JPEG','imageNet_subset/train/measuring_cup/n03733805_10697.JPEG','imageNet_subset/train/measuring_cup/n03733805_4686.JPEG','imageNet_subset/train/measuring_cup/n03733805_19440.JPEG','imageNet_subset/train/measuring_cup/n03733805_5076.JPEG','imageNet_subset/train/measuring_cup/n03733805_13682.JPEG','imageNet_subset/train/measuring_cup/n03733805_3219.JPEG','imageNet_subset/train/measuring_cup/n03733805_22869.JPEG','imageNet_subset/train/combination_lock/n03075370_10465.JPEG','imageNet_subset/train/combination_lock/n03075370_692.JPEG','imageNet_subset/train/combination_lock/n03075370_2495.JPEG','imageNet_subset/train/combination_lock/n03075370_10043.JPEG','imageNet_subset/train/combination_lock/n03075370_9291.JPEG','imageNet_subset/train/combination_lock/n03075370_4191.JPEG','imageNet_subset/train/combination_lock/n03075370_17182.JPEG','imageNet_subset/train/combination_lock/n03075370_2458.JPEG','imageNet_subset/train/combination_lock/n03075370_8983.JPEG','imageNet_subset/train/combination_lock/n03075370_5574.JPEG','imageNet_subset/train/bicycle-built-for-two/n02835271_6094.JPEG','imageNet_subset/train/bicycle-built-for-two/n02835271_4313.JPEG','imageNet_subset/train/bicycle-built-for-two/n02835271_8648.JPEG','imageNet_subset/train/bicycle-built-for-two/n02835271_4667.JPEG','imageNet_subset/train/bicycle-built-for-two/n02835271_10390.JPEG','imageNet_subset/train/bicycle-built-for-two/n02835271_1311.JPEG','imageNet_subset/train/bicycle-built-for-two/n02835271_21974.JPEG','imageNet_subset/train/bicycle-built-for-two/n02835271_11697.JPEG','imageNet_subset/train/bicycle-built-for-two/n02835271_10931.JPEG','imageNet_subset/train/bicycle-built-for-two/n02835271_13756.JPEG','imageNet_subset/train/junco/n01534433_8763.JPEG','imageNet_subset/train/junco/n01534433_15198.JPEG','imageNet_subset/train/junco/n01534433_7360.JPEG','imageNet_subset/train/junco/n01534433_14639.JPEG','imageNet_subset/train/junco/n01534433_8422.JPEG','imageNet_subset/train/junco/n01534433_28407.JPEG','imageNet_subset/train/junco/n01534433_1645.JPEG','imageNet_subset/train/junco/n01534433_10643.JPEG','imageNet_subset/train/junco/n01534433_2419.JPEG','imageNet_subset/train/junco/n01534433_20889.JPEG','imageNet_subset/train/cocktail_shaker/n03062245_1498.JPEG','imageNet_subset/train/cocktail_shaker/n03062245_4550.JPEG','imageNet_subset/train/cocktail_shaker/n03062245_528.JPEG','imageNet_subset/train/cocktail_shaker/n03062245_15980.JPEG','imageNet_subset/train/cocktail_shaker/n03062245_1186.JPEG','imageNet_subset/train/cocktail_shaker/n03062245_3194.JPEG','imageNet_subset/train/cocktail_shaker/n03062245_7972.JPEG','imageNet_subset/train/cocktail_shaker/n03062245_1019.JPEG','imageNet_subset/train/cocktail_shaker/n03062245_2941.JPEG','imageNet_subset/train/cocktail_shaker/n03062245_12368.JPEG','imageNet_subset/train/electric_locomotive/n03272562_8485.JPEG','imageNet_subset/train/electric_locomotive/n03272562_3816.JPEG','imageNet_subset/train/electric_locomotive/n03272562_3996.JPEG','imageNet_subset/train/electric_locomotive/n03272562_265.JPEG','imageNet_subset/train/electric_locomotive/n03272562_8383.JPEG','imageNet_subset/train/electric_locomotive/n03272562_8598.JPEG','imageNet_subset/train/electric_locomotive/n03272562_6528.JPEG','imageNet_subset/train/electric_locomotive/n03272562_2727.JPEG','imageNet_subset/train/electric_locomotive/n03272562_1737.JPEG','imageNet_subset/train/electric_locomotive/n03272562_6933.JPEG','imageNet_subset/train/scabbard/n04141327_7579.JPEG','imageNet_subset/train/scabbard/n04141327_1706.JPEG','imageNet_subset/train/scabbard/n04141327_15760.JPEG','imageNet_subset/train/scabbard/n04141327_205.JPEG','imageNet_subset/train/scabbard/n04141327_7195.JPEG','imageNet_subset/train/scabbard/n04141327_2293.JPEG','imageNet_subset/train/scabbard/n04141327_5280.JPEG','imageNet_subset/train/scabbard/n04141327_736.JPEG','imageNet_subset/train/scabbard/n04141327_8694.JPEG','imageNet_subset/train/scabbard/n04141327_3742.JPEG','imageNet_subset/train/toyshop/n04462240_11243.JPEG','imageNet_subset/train/toyshop/n04462240_10035.JPEG','imageNet_subset/train/toyshop/n04462240_7857.JPEG','imageNet_subset/train/toyshop/n04462240_10500.JPEG','imageNet_subset/train/toyshop/n04462240_10881.JPEG','imageNet_subset/train/toyshop/n04462240_9378.JPEG','imageNet_subset/train/toyshop/n04462240_3125.JPEG','imageNet_subset/train/toyshop/n04462240_9345.JPEG','imageNet_subset/train/toyshop/n04462240_20602.JPEG','imageNet_subset/train/toyshop/n04462240_19758.JPEG','imageNet_subset/train/standard_poodle/n02113799_3304.JPEG','imageNet_subset/train/standard_poodle/n02113799_902.JPEG','imageNet_subset/train/standard_poodle/n02113799_6784.JPEG','imageNet_subset/train/standard_poodle/n02113799_1666.JPEG','imageNet_subset/train/standard_poodle/n02113799_7970.JPEG','imageNet_subset/train/standard_poodle/n02113799_9692.JPEG','imageNet_subset/train/standard_poodle/n02113799_671.JPEG','imageNet_subset/train/standard_poodle/n02113799_15958.JPEG','imageNet_subset/train/standard_poodle/n02113799_9150.JPEG','imageNet_subset/train/standard_poodle/n02113799_1399.JPEG','imageNet_subset/train/red-backed_sandpiper/n02027492_10068.JPEG','imageNet_subset/train/red-backed_sandpiper/n02027492_5299.JPEG','imageNet_subset/train/red-backed_sandpiper/n02027492_5565.JPEG','imageNet_subset/train/red-backed_sandpiper/n02027492_3063.JPEG','imageNet_subset/train/red-backed_sandpiper/n02027492_2371.JPEG','imageNet_subset/train/red-backed_sandpiper/n02027492_361.JPEG','imageNet_subset/train/red-backed_sandpiper/n02027492_4687.JPEG','imageNet_subset/train/red-backed_sandpiper/n02027492_5055.JPEG','imageNet_subset/train/red-backed_sandpiper/n02027492_7527.JPEG','imageNet_subset/train/red-backed_sandpiper/n02027492_3159.JPEG','imageNet_subset/train/warplane/n04552348_9726.JPEG','imageNet_subset/train/warplane/n04552348_24336.JPEG','imageNet_subset/train/warplane/n04552348_10736.JPEG','imageNet_subset/train/warplane/n04552348_12780.JPEG','imageNet_subset/train/warplane/n04552348_2027.JPEG','imageNet_subset/train/warplane/n04552348_22639.JPEG','imageNet_subset/train/warplane/n04552348_16150.JPEG','imageNet_subset/train/warplane/n04552348_25299.JPEG','imageNet_subset/train/warplane/n04552348_13334.JPEG','imageNet_subset/train/warplane/n04552348_11954.JPEG','imageNet_subset/train/Afghan_hound/n02088094_1045.JPEG','imageNet_subset/train/Afghan_hound/n02088094_5532.JPEG','imageNet_subset/train/Afghan_hound/n02088094_14463.JPEG','imageNet_subset/train/Afghan_hound/n02088094_6533.JPEG','imageNet_subset/train/Afghan_hound/n02088094_6565.JPEG','imageNet_subset/train/Afghan_hound/n02088094_3882.JPEG','imageNet_subset/train/Afghan_hound/n02088094_7360.JPEG','imageNet_subset/train/Afghan_hound/n02088094_5911.JPEG','imageNet_subset/train/Afghan_hound/n02088094_9175.JPEG','imageNet_subset/train/Afghan_hound/n02088094_2164.JPEG','imageNet_subset/train/conch/n01943899_29692.JPEG','imageNet_subset/train/conch/n01943899_24635.JPEG','imageNet_subset/train/conch/n01943899_31504.JPEG','imageNet_subset/train/conch/n01943899_8645.JPEG','imageNet_subset/train/conch/n01943899_25636.JPEG','imageNet_subset/train/conch/n01943899_20930.JPEG','imageNet_subset/train/conch/n01943899_21809.JPEG','imageNet_subset/train/conch/n01943899_9228.JPEG','imageNet_subset/train/conch/n01943899_798.JPEG','imageNet_subset/train/conch/n01943899_15897.JPEG','imageNet_subset/train/harmonica/n03494278_44048.JPEG','imageNet_subset/train/harmonica/n03494278_36127.JPEG','imageNet_subset/train/harmonica/n03494278_28699.JPEG','imageNet_subset/train/harmonica/n03494278_1217.JPEG','imageNet_subset/train/harmonica/n03494278_32453.JPEG','imageNet_subset/train/harmonica/n03494278_22412.JPEG','imageNet_subset/train/harmonica/n03494278_38208.JPEG','imageNet_subset/train/harmonica/n03494278_29999.JPEG','imageNet_subset/train/harmonica/n03494278_40195.JPEG','imageNet_subset/train/harmonica/n03494278_30921.JPEG','imageNet_subset/train/steam_locomotive/n04310018_18259.JPEG','imageNet_subset/train/steam_locomotive/n04310018_10624.JPEG','imageNet_subset/train/steam_locomotive/n04310018_5560.JPEG','imageNet_subset/train/steam_locomotive/n04310018_1057.JPEG','imageNet_subset/train/steam_locomotive/n04310018_10497.JPEG','imageNet_subset/train/steam_locomotive/n04310018_3057.JPEG','imageNet_subset/train/steam_locomotive/n04310018_11226.JPEG','imageNet_subset/train/steam_locomotive/n04310018_2977.JPEG','imageNet_subset/train/steam_locomotive/n04310018_9654.JPEG','imageNet_subset/train/steam_locomotive/n04310018_21399.JPEG','imageNet_subset/train/malamute/n02110063_16693.JPEG','imageNet_subset/train/malamute/n02110063_1894.JPEG','imageNet_subset/train/malamute/n02110063_10718.JPEG','imageNet_subset/train/malamute/n02110063_12768.JPEG','imageNet_subset/train/malamute/n02110063_13179.JPEG','imageNet_subset/train/malamute/n02110063_13791.JPEG','imageNet_subset/train/malamute/n02110063_1643.JPEG','imageNet_subset/train/malamute/n02110063_15025.JPEG','imageNet_subset/train/malamute/n02110063_5791.JPEG','imageNet_subset/train/malamute/n02110063_6369.JPEG','imageNet_subset/train/kit_fox/n02119789_2736.JPEG','imageNet_subset/train/kit_fox/n02119789_17624.JPEG','imageNet_subset/train/kit_fox/n02119789_14642.JPEG','imageNet_subset/train/kit_fox/n02119789_11471.JPEG','imageNet_subset/train/kit_fox/n02119789_2049.JPEG','imageNet_subset/train/kit_fox/n02119789_5688.JPEG','imageNet_subset/train/kit_fox/n02119789_1147.JPEG','imageNet_subset/train/kit_fox/n02119789_9977.JPEG','imageNet_subset/train/kit_fox/n02119789_655.JPEG','imageNet_subset/train/kit_fox/n02119789_10086.JPEG','imageNet_subset/train/dishwasher/n03207941_8944.JPEG','imageNet_subset/train/dishwasher/n03207941_11123.JPEG','imageNet_subset/train/dishwasher/n03207941_13200.JPEG','imageNet_subset/train/dishwasher/n03207941_7160.JPEG','imageNet_subset/train/dishwasher/n03207941_12359.JPEG','imageNet_subset/train/dishwasher/n03207941_20047.JPEG','imageNet_subset/train/dishwasher/n03207941_10900.JPEG','imageNet_subset/train/dishwasher/n03207941_15169.JPEG','imageNet_subset/train/dishwasher/n03207941_7670.JPEG','imageNet_subset/train/dishwasher/n03207941_436.JPEG','imageNet_subset/train/yawl/n04612504_27200.JPEG','imageNet_subset/train/yawl/n04612504_7540.JPEG','imageNet_subset/train/yawl/n04612504_10666.JPEG','imageNet_subset/train/yawl/n04612504_186.JPEG','imageNet_subset/train/yawl/n04612504_8870.JPEG','imageNet_subset/train/yawl/n04612504_2395.JPEG','imageNet_subset/train/yawl/n04612504_8235.JPEG','imageNet_subset/train/yawl/n04612504_8245.JPEG','imageNet_subset/train/yawl/n04612504_15562.JPEG','imageNet_subset/train/yawl/n04612504_34550.JPEG','imageNet_subset/train/comic_book/n06596364_3314.JPEG','imageNet_subset/train/comic_book/n06596364_4445.JPEG','imageNet_subset/train/comic_book/n06596364_5634.JPEG','imageNet_subset/train/comic_book/n06596364_19168.JPEG','imageNet_subset/train/comic_book/n06596364_12588.JPEG','imageNet_subset/train/comic_book/n06596364_11921.JPEG','imageNet_subset/train/comic_book/n06596364_4451.JPEG','imageNet_subset/train/comic_book/n06596364_7928.JPEG','imageNet_subset/train/comic_book/n06596364_4083.JPEG','imageNet_subset/train/comic_book/n06596364_12832.JPEG','imageNet_subset/train/strainer/n04332243_1215.JPEG','imageNet_subset/train/strainer/n04332243_24934.JPEG','imageNet_subset/train/strainer/n04332243_242.JPEG','imageNet_subset/train/strainer/n04332243_27400.JPEG','imageNet_subset/train/strainer/n04332243_4123.JPEG','imageNet_subset/train/strainer/n04332243_36664.JPEG','imageNet_subset/train/strainer/n04332243_12988.JPEG','imageNet_subset/train/strainer/n04332243_8154.JPEG','imageNet_subset/train/strainer/n04332243_16935.JPEG','imageNet_subset/train/strainer/n04332243_2338.JPEG','imageNet_subset/train/loudspeaker/n03691459_20532.JPEG','imageNet_subset/train/loudspeaker/n03691459_64837.JPEG','imageNet_subset/train/loudspeaker/n03691459_11843.JPEG','imageNet_subset/train/loudspeaker/n03691459_8520.JPEG','imageNet_subset/train/loudspeaker/n03691459_58288.JPEG','imageNet_subset/train/loudspeaker/n03691459_68783.JPEG','imageNet_subset/train/loudspeaker/n03691459_78054.JPEG','imageNet_subset/train/loudspeaker/n03691459_77818.JPEG','imageNet_subset/train/loudspeaker/n03691459_40992.JPEG','imageNet_subset/train/loudspeaker/n03691459_15367.JPEG','imageNet_subset/train/capuchin/n02492035_6886.JPEG','imageNet_subset/train/capuchin/n02492035_3368.JPEG','imageNet_subset/train/capuchin/n02492035_4327.JPEG','imageNet_subset/train/capuchin/n02492035_16843.JPEG','imageNet_subset/train/capuchin/n02492035_12948.JPEG','imageNet_subset/train/capuchin/n02492035_16730.JPEG','imageNet_subset/train/capuchin/n02492035_1540.JPEG','imageNet_subset/train/capuchin/n02492035_2004.JPEG','imageNet_subset/train/capuchin/n02492035_9238.JPEG','imageNet_subset/train/capuchin/n02492035_6519.JPEG','imageNet_subset/train/basketball/n02802426_12191.JPEG','imageNet_subset/train/basketball/n02802426_24958.JPEG','imageNet_subset/train/basketball/n02802426_26718.JPEG','imageNet_subset/train/basketball/n02802426_7656.JPEG','imageNet_subset/train/basketball/n02802426_8222.JPEG','imageNet_subset/train/basketball/n02802426_3881.JPEG','imageNet_subset/train/basketball/n02802426_7726.JPEG','imageNet_subset/train/basketball/n02802426_9952.JPEG','imageNet_subset/train/basketball/n02802426_12782.JPEG','imageNet_subset/train/basketball/n02802426_10137.JPEG','imageNet_subset/train/ambulance/n02701002_21621.JPEG','imageNet_subset/train/ambulance/n02701002_3315.JPEG','imageNet_subset/train/ambulance/n02701002_18950.JPEG','imageNet_subset/train/ambulance/n02701002_15786.JPEG','imageNet_subset/train/ambulance/n02701002_11033.JPEG','imageNet_subset/train/ambulance/n02701002_4047.JPEG','imageNet_subset/train/ambulance/n02701002_17491.JPEG','imageNet_subset/train/ambulance/n02701002_2937.JPEG','imageNet_subset/train/ambulance/n02701002_1264.JPEG','imageNet_subset/train/ambulance/n02701002_773.JPEG','imageNet_subset/train/china_cabinet/n03018349_1038.JPEG','imageNet_subset/train/china_cabinet/n03018349_361.JPEG','imageNet_subset/train/china_cabinet/n03018349_2665.JPEG','imageNet_subset/train/china_cabinet/n03018349_2126.JPEG','imageNet_subset/train/china_cabinet/n03018349_20592.JPEG','imageNet_subset/train/china_cabinet/n03018349_2404.JPEG','imageNet_subset/train/china_cabinet/n03018349_5674.JPEG','imageNet_subset/train/china_cabinet/n03018349_13788.JPEG','imageNet_subset/train/china_cabinet/n03018349_4049.JPEG','imageNet_subset/train/china_cabinet/n03018349_2119.JPEG','imageNet_subset/train/carousel/n02966193_575.JPEG','imageNet_subset/train/carousel/n02966193_41665.JPEG','imageNet_subset/train/carousel/n02966193_7683.JPEG','imageNet_subset/train/carousel/n02966193_3789.JPEG','imageNet_subset/train/carousel/n02966193_25350.JPEG','imageNet_subset/train/carousel/n02966193_41621.JPEG','imageNet_subset/train/carousel/n02966193_17155.JPEG','imageNet_subset/train/carousel/n02966193_14630.JPEG','imageNet_subset/train/carousel/n02966193_38636.JPEG','imageNet_subset/train/carousel/n02966193_27604.JPEG','imageNet_subset/train/mongoose/n02137549_2872.JPEG','imageNet_subset/train/mongoose/n02137549_5694.JPEG','imageNet_subset/train/mongoose/n02137549_7436.JPEG','imageNet_subset/train/mongoose/n02137549_7552.JPEG','imageNet_subset/train/mongoose/n02137549_7641.JPEG','imageNet_subset/train/mongoose/n02137549_2769.JPEG','imageNet_subset/train/mongoose/n02137549_5043.JPEG','imageNet_subset/train/mongoose/n02137549_9314.JPEG','imageNet_subset/train/mongoose/n02137549_7891.JPEG','imageNet_subset/train/mongoose/n02137549_10713.JPEG','imageNet_subset/train/Doberman/n02107142_1596.JPEG','imageNet_subset/train/Doberman/n02107142_47697.JPEG','imageNet_subset/train/Doberman/n02107142_14933.JPEG','imageNet_subset/train/Doberman/n02107142_10381.JPEG','imageNet_subset/train/Doberman/n02107142_3428.JPEG','imageNet_subset/train/Doberman/n02107142_4753.JPEG','imageNet_subset/train/Doberman/n02107142_24759.JPEG','imageNet_subset/train/Doberman/n02107142_3654.JPEG','imageNet_subset/train/Doberman/n02107142_49242.JPEG','imageNet_subset/train/Doberman/n02107142_32921.JPEG','imageNet_subset/train/holster/n03527444_26895.JPEG','imageNet_subset/train/holster/n03527444_18529.JPEG','imageNet_subset/train/holster/n03527444_1273.JPEG','imageNet_subset/train/holster/n03527444_4695.JPEG','imageNet_subset/train/holster/n03527444_20303.JPEG','imageNet_subset/train/holster/n03527444_1270.JPEG','imageNet_subset/train/holster/n03527444_11096.JPEG','imageNet_subset/train/holster/n03527444_8155.JPEG','imageNet_subset/train/holster/n03527444_11055.JPEG','imageNet_subset/train/holster/n03527444_693.JPEG','imageNet_subset/train/triceratops/n01704323_1190.JPEG','imageNet_subset/train/triceratops/n01704323_2070.JPEG','imageNet_subset/train/triceratops/n01704323_541.JPEG','imageNet_subset/train/triceratops/n01704323_1380.JPEG','imageNet_subset/train/triceratops/n01704323_1569.JPEG','imageNet_subset/train/triceratops/n01704323_3296.JPEG','imageNet_subset/train/triceratops/n01704323_2521.JPEG','imageNet_subset/train/triceratops/n01704323_2435.JPEG','imageNet_subset/train/triceratops/n01704323_1741.JPEG','imageNet_subset/train/triceratops/n01704323_9059.JPEG','imageNet_subset/train/minibus/n03769881_4205.JPEG','imageNet_subset/train/minibus/n03769881_8573.JPEG','imageNet_subset/train/minibus/n03769881_10813.JPEG','imageNet_subset/train/minibus/n03769881_2483.JPEG','imageNet_subset/train/minibus/n03769881_3883.JPEG','imageNet_subset/train/minibus/n03769881_1043.JPEG','imageNet_subset/train/minibus/n03769881_59.JPEG','imageNet_subset/train/minibus/n03769881_5168.JPEG','imageNet_subset/train/minibus/n03769881_8116.JPEG','imageNet_subset/train/minibus/n03769881_619.JPEG','imageNet_subset/train/turnstile/n04501370_13336.JPEG','imageNet_subset/train/turnstile/n04501370_836.JPEG','imageNet_subset/train/turnstile/n04501370_7431.JPEG','imageNet_subset/train/turnstile/n04501370_2767.JPEG','imageNet_subset/train/turnstile/n04501370_3474.JPEG','imageNet_subset/train/turnstile/n04501370_1869.JPEG','imageNet_subset/train/turnstile/n04501370_448.JPEG','imageNet_subset/train/turnstile/n04501370_576.JPEG','imageNet_subset/train/turnstile/n04501370_15603.JPEG','imageNet_subset/train/turnstile/n04501370_6920.JPEG','imageNet_subset/train/soft-coated_wheaten_terrier/n02098105_2694.JPEG','imageNet_subset/train/soft-coated_wheaten_terrier/n02098105_3817.JPEG','imageNet_subset/train/soft-coated_wheaten_terrier/n02098105_1298.JPEG','imageNet_subset/train/soft-coated_wheaten_terrier/n02098105_6619.JPEG','imageNet_subset/train/soft-coated_wheaten_terrier/n02098105_7399.JPEG','imageNet_subset/train/soft-coated_wheaten_terrier/n02098105_2738.JPEG','imageNet_subset/train/soft-coated_wheaten_terrier/n02098105_82.JPEG','imageNet_subset/train/soft-coated_wheaten_terrier/n02098105_7735.JPEG','imageNet_subset/train/soft-coated_wheaten_terrier/n02098105_400.JPEG','imageNet_subset/train/soft-coated_wheaten_terrier/n02098105_4186.JPEG','imageNet_subset/train/hen-of-the-woods/n13052670_908.JPEG','imageNet_subset/train/hen-of-the-woods/n13052670_10745.JPEG','imageNet_subset/train/hen-of-the-woods/n13052670_10016.JPEG','imageNet_subset/train/hen-of-the-woods/n13052670_7510.JPEG','imageNet_subset/train/hen-of-the-woods/n13052670_2293.JPEG','imageNet_subset/train/hen-of-the-woods/n13052670_11022.JPEG','imageNet_subset/train/hen-of-the-woods/n13052670_3174.JPEG','imageNet_subset/train/hen-of-the-woods/n13052670_4393.JPEG','imageNet_subset/train/hen-of-the-woods/n13052670_7351.JPEG','imageNet_subset/train/hen-of-the-woods/n13052670_9006.JPEG','imageNet_subset/train/white_stork/n02002556_17324.JPEG','imageNet_subset/train/white_stork/n02002556_5511.JPEG','imageNet_subset/train/white_stork/n02002556_887.JPEG','imageNet_subset/train/white_stork/n02002556_18208.JPEG','imageNet_subset/train/white_stork/n02002556_10873.JPEG','imageNet_subset/train/white_stork/n02002556_204.JPEG','imageNet_subset/train/white_stork/n02002556_7748.JPEG','imageNet_subset/train/white_stork/n02002556_6322.JPEG','imageNet_subset/train/white_stork/n02002556_17393.JPEG','imageNet_subset/train/white_stork/n02002556_8984.JPEG','imageNet_subset/train/traffic_light/n06874185_46438.JPEG','imageNet_subset/train/traffic_light/n06874185_27019.JPEG','imageNet_subset/train/traffic_light/n06874185_23893.JPEG','imageNet_subset/train/traffic_light/n06874185_41952.JPEG','imageNet_subset/train/traffic_light/n06874185_24794.JPEG','imageNet_subset/train/traffic_light/n06874185_9917.JPEG','imageNet_subset/train/traffic_light/n06874185_5700.JPEG','imageNet_subset/train/traffic_light/n06874185_10683.JPEG','imageNet_subset/train/traffic_light/n06874185_15185.JPEG','imageNet_subset/train/traffic_light/n06874185_28879.JPEG','imageNet_subset/train/Rhodesian_ridgeback/n02087394_12174.JPEG','imageNet_subset/train/Rhodesian_ridgeback/n02087394_10810.JPEG','imageNet_subset/train/Rhodesian_ridgeback/n02087394_5664.JPEG','imageNet_subset/train/Rhodesian_ridgeback/n02087394_6382.JPEG','imageNet_subset/train/Rhodesian_ridgeback/n02087394_278.JPEG','imageNet_subset/train/Rhodesian_ridgeback/n02087394_239.JPEG','imageNet_subset/train/Rhodesian_ridgeback/n02087394_21329.JPEG','imageNet_subset/train/Rhodesian_ridgeback/n02087394_5846.JPEG','imageNet_subset/train/Rhodesian_ridgeback/n02087394_8852.JPEG','imageNet_subset/train/Rhodesian_ridgeback/n02087394_9675.JPEG','imageNet_subset/train/parachute/n03888257_9066.JPEG','imageNet_subset/train/parachute/n03888257_13175.JPEG','imageNet_subset/train/parachute/n03888257_31784.JPEG','imageNet_subset/train/parachute/n03888257_19451.JPEG','imageNet_subset/train/parachute/n03888257_52194.JPEG','imageNet_subset/train/parachute/n03888257_22330.JPEG','imageNet_subset/train/parachute/n03888257_2007.JPEG','imageNet_subset/train/parachute/n03888257_4738.JPEG','imageNet_subset/train/parachute/n03888257_25150.JPEG','imageNet_subset/train/parachute/n03888257_63966.JPEG','imageNet_subset/train/goblet/n03443371_3708.JPEG','imageNet_subset/train/goblet/n03443371_7195.JPEG','imageNet_subset/train/goblet/n03443371_268.JPEG','imageNet_subset/train/goblet/n03443371_3288.JPEG','imageNet_subset/train/goblet/n03443371_3723.JPEG','imageNet_subset/train/goblet/n03443371_14193.JPEG','imageNet_subset/train/goblet/n03443371_7918.JPEG','imageNet_subset/train/goblet/n03443371_9475.JPEG','imageNet_subset/train/goblet/n03443371_23436.JPEG','imageNet_subset/train/goblet/n03443371_3571.JPEG','imageNet_subset/train/Bouvier_des_Flandres/n02106382_9318.JPEG','imageNet_subset/train/Bouvier_des_Flandres/n02106382_6653.JPEG','imageNet_subset/train/Bouvier_des_Flandres/n02106382_404.JPEG','imageNet_subset/train/Bouvier_des_Flandres/n02106382_5429.JPEG','imageNet_subset/train/Bouvier_des_Flandres/n02106382_2705.JPEG','imageNet_subset/train/Bouvier_des_Flandres/n02106382_6290.JPEG','imageNet_subset/train/Bouvier_des_Flandres/n02106382_2474.JPEG','imageNet_subset/train/Bouvier_des_Flandres/n02106382_4153.JPEG','imageNet_subset/train/Bouvier_des_Flandres/n02106382_2872.JPEG','imageNet_subset/train/Bouvier_des_Flandres/n02106382_8906.JPEG','imageNet_subset/train/Lakeland_terrier/n02095570_4.JPEG','imageNet_subset/train/Lakeland_terrier/n02095570_11204.JPEG','imageNet_subset/train/Lakeland_terrier/n02095570_1026.JPEG','imageNet_subset/train/Lakeland_terrier/n02095570_2569.JPEG','imageNet_subset/train/Lakeland_terrier/n02095570_866.JPEG','imageNet_subset/train/Lakeland_terrier/n02095570_5689.JPEG','imageNet_subset/train/Lakeland_terrier/n02095570_1055.JPEG','imageNet_subset/train/Lakeland_terrier/n02095570_2664.JPEG','imageNet_subset/train/Lakeland_terrier/n02095570_5456.JPEG','imageNet_subset/train/Lakeland_terrier/n02095570_12040.JPEG','imageNet_subset/train/cliff_dwelling/n03042490_10143.JPEG','imageNet_subset/train/cliff_dwelling/n03042490_10980.JPEG','imageNet_subset/train/cliff_dwelling/n03042490_2061.JPEG','imageNet_subset/train/cliff_dwelling/n03042490_8178.JPEG','imageNet_subset/train/cliff_dwelling/n03042490_2390.JPEG','imageNet_subset/train/cliff_dwelling/n03042490_2171.JPEG','imageNet_subset/train/cliff_dwelling/n03042490_1526.JPEG','imageNet_subset/train/cliff_dwelling/n03042490_4084.JPEG','imageNet_subset/train/cliff_dwelling/n03042490_6749.JPEG','imageNet_subset/train/cliff_dwelling/n03042490_4124.JPEG','imageNet_subset/train/screen/n04152593_36277.JPEG','imageNet_subset/train/screen/n04152593_345.JPEG','imageNet_subset/train/screen/n04152593_5333.JPEG','imageNet_subset/train/screen/n04152593_2793.JPEG','imageNet_subset/train/screen/n04152593_20281.JPEG','imageNet_subset/train/screen/n04152593_70995.JPEG','imageNet_subset/train/screen/n04152593_29558.JPEG','imageNet_subset/train/screen/n04152593_60736.JPEG','imageNet_subset/train/screen/n04152593_18911.JPEG','imageNet_subset/train/screen/n04152593_13170.JPEG','imageNet_subset/train/vine_snake/n01739381_8415.JPEG','imageNet_subset/train/vine_snake/n01739381_5304.JPEG','imageNet_subset/train/vine_snake/n01739381_8940.JPEG','imageNet_subset/train/vine_snake/n01739381_4075.JPEG','imageNet_subset/train/vine_snake/n01739381_5263.JPEG','imageNet_subset/train/vine_snake/n01739381_5377.JPEG','imageNet_subset/train/vine_snake/n01739381_5091.JPEG','imageNet_subset/train/vine_snake/n01739381_5245.JPEG','imageNet_subset/train/vine_snake/n01739381_6957.JPEG','imageNet_subset/train/vine_snake/n01739381_8285.JPEG','imageNet_subset/train/theater_curtain/n04418357_2340.JPEG','imageNet_subset/train/theater_curtain/n04418357_15897.JPEG','imageNet_subset/train/theater_curtain/n04418357_13381.JPEG','imageNet_subset/train/theater_curtain/n04418357_27939.JPEG','imageNet_subset/train/theater_curtain/n04418357_10216.JPEG','imageNet_subset/train/theater_curtain/n04418357_2763.JPEG','imageNet_subset/train/theater_curtain/n04418357_3797.JPEG','imageNet_subset/train/theater_curtain/n04418357_5013.JPEG','imageNet_subset/train/theater_curtain/n04418357_5669.JPEG','imageNet_subset/train/theater_curtain/n04418357_7252.JPEG','imageNet_subset/train/folding_chair/n03376595_1740.JPEG','imageNet_subset/train/folding_chair/n03376595_9977.JPEG','imageNet_subset/train/folding_chair/n03376595_12960.JPEG','imageNet_subset/train/folding_chair/n03376595_404.JPEG','imageNet_subset/train/folding_chair/n03376595_13927.JPEG','imageNet_subset/train/folding_chair/n03376595_4251.JPEG','imageNet_subset/train/folding_chair/n03376595_1881.JPEG','imageNet_subset/train/folding_chair/n03376595_6691.JPEG','imageNet_subset/train/folding_chair/n03376595_4887.JPEG','imageNet_subset/train/folding_chair/n03376595_19102.JPEG','imageNet_subset/train/African_crocodile/n01697457_14906.JPEG','imageNet_subset/train/African_crocodile/n01697457_8136.JPEG','imageNet_subset/train/African_crocodile/n01697457_18587.JPEG','imageNet_subset/train/African_crocodile/n01697457_5586.JPEG','imageNet_subset/train/African_crocodile/n01697457_8331.JPEG','imageNet_subset/train/African_crocodile/n01697457_1331.JPEG','imageNet_subset/train/African_crocodile/n01697457_104.JPEG','imageNet_subset/train/African_crocodile/n01697457_260.JPEG','imageNet_subset/train/African_crocodile/n01697457_10393.JPEG','imageNet_subset/train/African_crocodile/n01697457_85.JPEG','imageNet_subset/train/guillotine/n03467068_8323.JPEG','imageNet_subset/train/guillotine/n03467068_12566.JPEG','imageNet_subset/train/guillotine/n03467068_7645.JPEG','imageNet_subset/train/guillotine/n03467068_11567.JPEG','imageNet_subset/train/guillotine/n03467068_9387.JPEG','imageNet_subset/train/guillotine/n03467068_27478.JPEG','imageNet_subset/train/guillotine/n03467068_8369.JPEG','imageNet_subset/train/guillotine/n03467068_11806.JPEG','imageNet_subset/train/guillotine/n03467068_27538.JPEG','imageNet_subset/train/guillotine/n03467068_6095.JPEG','imageNet_subset/train/toilet_seat/n04447861_1510.JPEG','imageNet_subset/train/toilet_seat/n04447861_454.JPEG','imageNet_subset/train/toilet_seat/n04447861_1614.JPEG','imageNet_subset/train/toilet_seat/n04447861_18719.JPEG','imageNet_subset/train/toilet_seat/n04447861_11758.JPEG','imageNet_subset/train/toilet_seat/n04447861_9201.JPEG','imageNet_subset/train/toilet_seat/n04447861_18243.JPEG','imageNet_subset/train/toilet_seat/n04447861_6480.JPEG','imageNet_subset/train/toilet_seat/n04447861_1884.JPEG','imageNet_subset/train/toilet_seat/n04447861_6808.JPEG','imageNet_subset/train/Airedale/n02096051_5821.JPEG','imageNet_subset/train/Airedale/n02096051_910.JPEG','imageNet_subset/train/Airedale/n02096051_4548.JPEG','imageNet_subset/train/Airedale/n02096051_2045.JPEG','imageNet_subset/train/Airedale/n02096051_1537.JPEG','imageNet_subset/train/Airedale/n02096051_7156.JPEG','imageNet_subset/train/Airedale/n02096051_2773.JPEG','imageNet_subset/train/Airedale/n02096051_8169.JPEG','imageNet_subset/train/Airedale/n02096051_5976.JPEG','imageNet_subset/train/Airedale/n02096051_8871.JPEG','imageNet_subset/train/flatworm/n01924916_63.JPEG','imageNet_subset/train/flatworm/n01924916_7000.JPEG','imageNet_subset/train/flatworm/n01924916_9090.JPEG','imageNet_subset/train/flatworm/n01924916_8701.JPEG','imageNet_subset/train/flatworm/n01924916_8982.JPEG','imageNet_subset/train/flatworm/n01924916_4424.JPEG','imageNet_subset/train/flatworm/n01924916_9061.JPEG','imageNet_subset/train/flatworm/n01924916_5286.JPEG','imageNet_subset/train/flatworm/n01924916_8375.JPEG','imageNet_subset/train/flatworm/n01924916_9047.JPEG','imageNet_subset/train/cuirass/n03146219_13529.JPEG','imageNet_subset/train/cuirass/n03146219_11082.JPEG','imageNet_subset/train/cuirass/n03146219_32473.JPEG','imageNet_subset/train/cuirass/n03146219_3590.JPEG','imageNet_subset/train/cuirass/n03146219_3149.JPEG','imageNet_subset/train/cuirass/n03146219_7081.JPEG','imageNet_subset/train/cuirass/n03146219_4528.JPEG','imageNet_subset/train/cuirass/n03146219_208.JPEG','imageNet_subset/train/cuirass/n03146219_4538.JPEG','imageNet_subset/train/cuirass/n03146219_15923.JPEG','imageNet_subset/train/banana/n07753592_928.JPEG','imageNet_subset/train/banana/n07753592_5795.JPEG','imageNet_subset/train/banana/n07753592_6547.JPEG','imageNet_subset/train/banana/n07753592_14549.JPEG','imageNet_subset/train/banana/n07753592_16664.JPEG','imageNet_subset/train/banana/n07753592_7724.JPEG','imageNet_subset/train/banana/n07753592_3043.JPEG','imageNet_subset/train/banana/n07753592_18.JPEG','imageNet_subset/train/banana/n07753592_7688.JPEG','imageNet_subset/train/banana/n07753592_6305.JPEG','imageNet_subset/train/castle/n02980441_2391.JPEG','imageNet_subset/train/castle/n02980441_9457.JPEG','imageNet_subset/train/castle/n02980441_5253.JPEG','imageNet_subset/train/castle/n02980441_11635.JPEG','imageNet_subset/train/castle/n02980441_16692.JPEG','imageNet_subset/train/castle/n02980441_37573.JPEG','imageNet_subset/train/castle/n02980441_2252.JPEG','imageNet_subset/train/castle/n02980441_2971.JPEG','imageNet_subset/train/castle/n02980441_4309.JPEG','imageNet_subset/train/castle/n02980441_1399.JPEG','imageNet_subset/train/bannister/n02788148_88795.JPEG','imageNet_subset/train/bannister/n02788148_78830.JPEG','imageNet_subset/train/bannister/n02788148_39278.JPEG','imageNet_subset/train/bannister/n02788148_10587.JPEG','imageNet_subset/train/bannister/n02788148_607.JPEG','imageNet_subset/train/bannister/n02788148_94636.JPEG','imageNet_subset/train/bannister/n02788148_64657.JPEG','imageNet_subset/train/bannister/n02788148_82451.JPEG','imageNet_subset/train/bannister/n02788148_39611.JPEG','imageNet_subset/train/bannister/n02788148_44881.JPEG','imageNet_subset/train/tiger_cat/n02123159_7386.JPEG','imageNet_subset/train/tiger_cat/n02123159_6503.JPEG','imageNet_subset/train/tiger_cat/n02123159_6104.JPEG','imageNet_subset/train/tiger_cat/n02123159_2317.JPEG','imageNet_subset/train/tiger_cat/n02123159_1389.JPEG','imageNet_subset/train/tiger_cat/n02123159_509.JPEG','imageNet_subset/train/tiger_cat/n02123159_6208.JPEG','imageNet_subset/train/tiger_cat/n02123159_6064.JPEG','imageNet_subset/train/tiger_cat/n02123159_4249.JPEG','imageNet_subset/train/tiger_cat/n02123159_5205.JPEG','imageNet_subset/train/tub/n04493381_14968.JPEG','imageNet_subset/train/tub/n04493381_2512.JPEG','imageNet_subset/train/tub/n04493381_75991.JPEG','imageNet_subset/train/tub/n04493381_4746.JPEG','imageNet_subset/train/tub/n04493381_3606.JPEG','imageNet_subset/train/tub/n04493381_294.JPEG','imageNet_subset/train/tub/n04493381_20052.JPEG','imageNet_subset/train/tub/n04493381_14741.JPEG','imageNet_subset/train/tub/n04493381_11325.JPEG','imageNet_subset/train/tub/n04493381_42891.JPEG','imageNet_subset/train/bullet_train/n02917067_12752.JPEG','imageNet_subset/train/bullet_train/n02917067_13196.JPEG','imageNet_subset/train/bullet_train/n02917067_18877.JPEG','imageNet_subset/train/bullet_train/n02917067_3151.JPEG','imageNet_subset/train/bullet_train/n02917067_7539.JPEG','imageNet_subset/train/bullet_train/n02917067_12974.JPEG','imageNet_subset/train/bullet_train/n02917067_4363.JPEG','imageNet_subset/train/bullet_train/n02917067_18140.JPEG','imageNet_subset/train/bullet_train/n02917067_1400.JPEG','imageNet_subset/train/bullet_train/n02917067_5222.JPEG','imageNet_subset/train/jean/n03594734_32813.JPEG','imageNet_subset/train/jean/n03594734_6277.JPEG','imageNet_subset/train/jean/n03594734_24159.JPEG','imageNet_subset/train/jean/n03594734_4800.JPEG','imageNet_subset/train/jean/n03594734_54417.JPEG','imageNet_subset/train/jean/n03594734_16188.JPEG','imageNet_subset/train/jean/n03594734_42955.JPEG','imageNet_subset/train/jean/n03594734_9714.JPEG','imageNet_subset/train/jean/n03594734_43949.JPEG','imageNet_subset/train/jean/n03594734_38343.JPEG','imageNet_subset/train/pizza/n07873807_16319.JPEG','imageNet_subset/train/pizza/n07873807_13842.JPEG','imageNet_subset/train/pizza/n07873807_17467.JPEG','imageNet_subset/train/pizza/n07873807_11460.JPEG','imageNet_subset/train/pizza/n07873807_14045.JPEG','imageNet_subset/train/pizza/n07873807_10533.JPEG','imageNet_subset/train/pizza/n07873807_17663.JPEG','imageNet_subset/train/pizza/n07873807_3782.JPEG','imageNet_subset/train/pizza/n07873807_18099.JPEG','imageNet_subset/train/pizza/n07873807_8160.JPEG','imageNet_subset/train/brain_coral/n01917289_765.JPEG','imageNet_subset/train/brain_coral/n01917289_1783.JPEG','imageNet_subset/train/brain_coral/n01917289_1022.JPEG','imageNet_subset/train/brain_coral/n01917289_4021.JPEG','imageNet_subset/train/brain_coral/n01917289_1079.JPEG','imageNet_subset/train/brain_coral/n01917289_1538.JPEG','imageNet_subset/train/brain_coral/n01917289_1082.JPEG','imageNet_subset/train/brain_coral/n01917289_2484.JPEG','imageNet_subset/train/brain_coral/n01917289_4069.JPEG','imageNet_subset/train/brain_coral/n01917289_4317.JPEG','imageNet_subset/train/flamingo/n02007558_447.JPEG','imageNet_subset/train/flamingo/n02007558_851.JPEG','imageNet_subset/train/flamingo/n02007558_22601.JPEG','imageNet_subset/train/flamingo/n02007558_21569.JPEG','imageNet_subset/train/flamingo/n02007558_12417.JPEG','imageNet_subset/train/flamingo/n02007558_9853.JPEG','imageNet_subset/train/flamingo/n02007558_2788.JPEG','imageNet_subset/train/flamingo/n02007558_12173.JPEG','imageNet_subset/train/flamingo/n02007558_20192.JPEG','imageNet_subset/train/flamingo/n02007558_20648.JPEG','imageNet_subset/train/car_mirror/n02965783_1638.JPEG','imageNet_subset/train/car_mirror/n02965783_4616.JPEG','imageNet_subset/train/car_mirror/n02965783_4476.JPEG','imageNet_subset/train/car_mirror/n02965783_5772.JPEG','imageNet_subset/train/car_mirror/n02965783_1577.JPEG','imageNet_subset/train/car_mirror/n02965783_2926.JPEG','imageNet_subset/train/car_mirror/n02965783_1938.JPEG','imageNet_subset/train/car_mirror/n02965783_6075.JPEG','imageNet_subset/train/car_mirror/n02965783_4855.JPEG','imageNet_subset/train/car_mirror/n02965783_1969.JPEG','imageNet_subset/train/knee_pad/n03623198_3552.JPEG','imageNet_subset/train/knee_pad/n03623198_9535.JPEG','imageNet_subset/train/knee_pad/n03623198_4415.JPEG','imageNet_subset/train/knee_pad/n03623198_14123.JPEG','imageNet_subset/train/knee_pad/n03623198_7294.JPEG','imageNet_subset/train/knee_pad/n03623198_4447.JPEG','imageNet_subset/train/knee_pad/n03623198_1346.JPEG','imageNet_subset/train/knee_pad/n03623198_11556.JPEG','imageNet_subset/train/knee_pad/n03623198_10486.JPEG','imageNet_subset/train/knee_pad/n03623198_14574.JPEG','imageNet_subset/train/barn_spider/n01773549_2680.JPEG','imageNet_subset/train/barn_spider/n01773549_2675.JPEG','imageNet_subset/train/barn_spider/n01773549_711.JPEG','imageNet_subset/train/barn_spider/n01773549_701.JPEG','imageNet_subset/train/barn_spider/n01773549_10106.JPEG','imageNet_subset/train/barn_spider/n01773549_6669.JPEG','imageNet_subset/train/barn_spider/n01773549_7649.JPEG','imageNet_subset/train/barn_spider/n01773549_5064.JPEG','imageNet_subset/train/barn_spider/n01773549_6399.JPEG','imageNet_subset/train/barn_spider/n01773549_4242.JPEG','imageNet_subset/train/safety_pin/n04127249_7477.JPEG','imageNet_subset/train/safety_pin/n04127249_1255.JPEG','imageNet_subset/train/safety_pin/n04127249_3090.JPEG','imageNet_subset/train/safety_pin/n04127249_5909.JPEG','imageNet_subset/train/safety_pin/n04127249_10227.JPEG','imageNet_subset/train/safety_pin/n04127249_8455.JPEG','imageNet_subset/train/safety_pin/n04127249_1990.JPEG','imageNet_subset/train/safety_pin/n04127249_4360.JPEG','imageNet_subset/train/safety_pin/n04127249_3657.JPEG','imageNet_subset/train/safety_pin/n04127249_254.JPEG','imageNet_subset/train/oxcart/n03868242_12798.JPEG','imageNet_subset/train/oxcart/n03868242_2688.JPEG','imageNet_subset/train/oxcart/n03868242_5356.JPEG','imageNet_subset/train/oxcart/n03868242_10994.JPEG','imageNet_subset/train/oxcart/n03868242_8299.JPEG','imageNet_subset/train/oxcart/n03868242_7773.JPEG','imageNet_subset/train/oxcart/n03868242_2434.JPEG','imageNet_subset/train/oxcart/n03868242_5332.JPEG','imageNet_subset/train/oxcart/n03868242_6801.JPEG','imageNet_subset/train/oxcart/n03868242_3999.JPEG','imageNet_subset/train/American_egret/n02009912_5700.JPEG','imageNet_subset/train/American_egret/n02009912_8563.JPEG','imageNet_subset/train/American_egret/n02009912_15872.JPEG','imageNet_subset/train/American_egret/n02009912_1358.JPEG','imageNet_subset/train/American_egret/n02009912_7609.JPEG','imageNet_subset/train/American_egret/n02009912_13895.JPEG','imageNet_subset/train/American_egret/n02009912_16896.JPEG','imageNet_subset/train/American_egret/n02009912_4403.JPEG','imageNet_subset/train/American_egret/n02009912_26245.JPEG','imageNet_subset/train/American_egret/n02009912_36395.JPEG','imageNet_subset/train/lion/n02129165_19953.JPEG','imageNet_subset/train/lion/n02129165_1142.JPEG','imageNet_subset/train/lion/n02129165_17028.JPEG','imageNet_subset/train/lion/n02129165_12949.JPEG','imageNet_subset/train/lion/n02129165_5845.JPEG','imageNet_subset/train/lion/n02129165_19310.JPEG','imageNet_subset/train/lion/n02129165_11278.JPEG','imageNet_subset/train/lion/n02129165_16.JPEG','imageNet_subset/train/lion/n02129165_19875.JPEG','imageNet_subset/train/lion/n02129165_5362.JPEG','imageNet_subset/train/ram/n02412080_43949.JPEG','imageNet_subset/train/ram/n02412080_17733.JPEG','imageNet_subset/train/ram/n02412080_254.JPEG','imageNet_subset/train/ram/n02412080_7360.JPEG','imageNet_subset/train/ram/n02412080_42757.JPEG','imageNet_subset/train/ram/n02412080_14052.JPEG','imageNet_subset/train/ram/n02412080_15004.JPEG','imageNet_subset/train/ram/n02412080_16805.JPEG','imageNet_subset/train/ram/n02412080_60778.JPEG','imageNet_subset/train/ram/n02412080_14527.JPEG','imageNet_subset/train/orange/n07747607_18447.JPEG','imageNet_subset/train/orange/n07747607_11283.JPEG','imageNet_subset/train/orange/n07747607_8647.JPEG','imageNet_subset/train/orange/n07747607_2102.JPEG','imageNet_subset/train/orange/n07747607_3088.JPEG','imageNet_subset/train/orange/n07747607_11140.JPEG','imageNet_subset/train/orange/n07747607_67457.JPEG','imageNet_subset/train/orange/n07747607_24556.JPEG','imageNet_subset/train/orange/n07747607_10110.JPEG','imageNet_subset/train/orange/n07747607_41539.JPEG','imageNet_subset/train/can_opener/n02951585_11577.JPEG','imageNet_subset/train/can_opener/n02951585_32431.JPEG','imageNet_subset/train/can_opener/n02951585_21861.JPEG','imageNet_subset/train/can_opener/n02951585_26678.JPEG','imageNet_subset/train/can_opener/n02951585_8886.JPEG','imageNet_subset/train/can_opener/n02951585_2273.JPEG','imageNet_subset/train/can_opener/n02951585_2656.JPEG','imageNet_subset/train/can_opener/n02951585_24554.JPEG','imageNet_subset/train/can_opener/n02951585_20022.JPEG','imageNet_subset/train/can_opener/n02951585_24077.JPEG','imageNet_subset/train/meat_loaf/n07871810_14754.JPEG','imageNet_subset/train/meat_loaf/n07871810_2072.JPEG','imageNet_subset/train/meat_loaf/n07871810_4095.JPEG','imageNet_subset/train/meat_loaf/n07871810_13375.JPEG','imageNet_subset/train/meat_loaf/n07871810_6975.JPEG','imageNet_subset/train/meat_loaf/n07871810_3404.JPEG','imageNet_subset/train/meat_loaf/n07871810_26759.JPEG','imageNet_subset/train/meat_loaf/n07871810_14521.JPEG','imageNet_subset/train/meat_loaf/n07871810_5636.JPEG','imageNet_subset/train/meat_loaf/n07871810_16025.JPEG']\n",
       "const mediaCallback = (rowId) => rowId in mediaUrls ? mediaUrls[rowId] : null\n",
       "\n",
       "const feder = new Feder({\n",
       "    filePath: \"hnswlib_image_net.index\",\n",
       "    source: \"hnswlib\",\n",
       "    domSelector: \"#feder-container-3793538\",\n",
       "    viewParams: {\n",
       "        ...{'width': 950, 'height': 600, 'mediaType': 'img'},\n",
       "        mediaCallback,\n",
       "    }\n",
       "})\n",
       "        \n",
       "feder.setSearchParams({'k': 4, 'ef_search': 6})\n",
       "feder.searchById(833)\n",
       "        \n",
       "</script>\n",
       "\n",
       "</html> \n"
      ],
      "text/plain": [
       "<IPython.core.display.HTML object>"
      ]
     },
     "metadata": {},
     "output_type": "display_data"
    }
   ],
   "source": [
    "from federpy.federpy import FederPy\n",
    "\n",
    "viewParams = {\n",
    "    \"width\": 950,\n",
    "    \"height\": 600,\n",
    "    \"mediaType\": \"img\",\n",
    "    \"mediaUrls\": images,\n",
    "}\n",
    "federPy = FederPy(hnsw_index_file_name, 'hnswlib', **viewParams)\n",
    "# federPy.overview()\n",
    "federPy.setSearchParams({\"k\": 4, \"ef_search\": 6})\n",
    "# federPy.searchRandTestVec()\n",
    "federPy.searchById(833)"
   ]
  },
  {
   "cell_type": "code",
   "execution_count": 38,
   "id": "496bd056",
   "metadata": {},
   "outputs": [],
   "source": [
    "feder_hnsw_file_name = 'feder_hnsw_image_net.html'\n",
    "useIPythonDisplay = False\n",
    "with open(feder_hnsw_file_name, 'w') as f:\n",
    "    f.write(federPy.searchById(833, useIPythonDisplay))"
   ]
  },
  {
   "cell_type": "markdown",
   "id": "ba6ff2c0",
   "metadata": {},
   "source": []
  },
  {
   "cell_type": "code",
   "execution_count": null,
   "id": "ae19e7f4",
   "metadata": {},
   "outputs": [],
   "source": []
  },
  {
   "cell_type": "code",
   "execution_count": null,
   "id": "7dbe515c",
   "metadata": {},
   "outputs": [],
   "source": []
  }
 ],
 "metadata": {
  "kernelspec": {
   "display_name": "towhee",
   "language": "python",
   "name": "towhee"
  },
  "language_info": {
   "codemirror_mode": {
    "name": "ipython",
    "version": 3
   },
   "file_extension": ".py",
   "mimetype": "text/x-python",
   "name": "python",
   "nbconvert_exporter": "python",
   "pygments_lexer": "ipython3",
   "version": "3.8.13"
  }
 },
 "nbformat": 4,
 "nbformat_minor": 5
}
